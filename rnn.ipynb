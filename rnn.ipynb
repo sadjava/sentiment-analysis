{
 "cells": [
  {
   "cell_type": "code",
   "execution_count": 1,
   "metadata": {},
   "outputs": [],
   "source": [
    "import torch\n",
    "from torch import nn\n",
    "from torch.utils.data import Dataset, DataLoader\n",
    "from torch.nn.utils.rnn import pad_sequence, pack_padded_sequence\n",
    "from layer import DynamicLayerConfig, DynamicLayer\n",
    "from torch import sigmoid\n",
    "from tqdm import tqdm\n",
    "\n",
    "from sklearn.metrics import accuracy_score, f1_score, precision_score, recall_score\n",
    "import matplotlib.pyplot as plt"
   ]
  },
  {
   "cell_type": "code",
   "execution_count": 2,
   "metadata": {},
   "outputs": [
    {
     "name": "stderr",
     "output_type": "stream",
     "text": [
      "Found cached dataset imdb (C:/Users/javid/.cache/huggingface/datasets/imdb/plain_text/1.0.0/d613c88cf8fa3bab83b4ded3713f1f74830d1100e171db75bbddb80b3345c9c0)\n"
     ]
    },
    {
     "data": {
      "application/vnd.jupyter.widget-view+json": {
       "model_id": "8987bba5ff72445c9548d30c58efd12e",
       "version_major": 2,
       "version_minor": 0
      },
      "text/plain": [
       "  0%|          | 0/3 [00:00<?, ?it/s]"
      ]
     },
     "metadata": {},
     "output_type": "display_data"
    }
   ],
   "source": [
    "from datasets import load_dataset, concatenate_datasets\n",
    "\n",
    "dataset = load_dataset('imdb')"
   ]
  },
  {
   "cell_type": "code",
   "execution_count": 3,
   "metadata": {},
   "outputs": [],
   "source": [
    "from transformers import BertTokenizerFast\n",
    "\n",
    "tokenizer = BertTokenizerFast.from_pretrained('bert-base-cased')"
   ]
  },
  {
   "cell_type": "code",
   "execution_count": 4,
   "metadata": {},
   "outputs": [],
   "source": [
    "data = concatenate_datasets([dataset['train'], dataset['test']]).train_test_split(test_size=0.2, shuffle=True)"
   ]
  },
  {
   "cell_type": "code",
   "execution_count": 5,
   "metadata": {},
   "outputs": [],
   "source": [
    "class SentimentDataset(Dataset):\n",
    "    def __init__(self, dataset, tokenizer):\n",
    "        self.dataset = dataset\n",
    "        self.tokenizer = tokenizer\n",
    "\n",
    "    def __len__(self):\n",
    "        return len(self.dataset)\n",
    "\n",
    "    def __getitem__(self, idx):\n",
    "        item = self.dataset[idx]\n",
    "        text = item['text']\n",
    "        label = item['label']\n",
    "\n",
    "        encoding = self.tokenizer(text, truncation=True, return_tensors='pt')\n",
    "\n",
    "        input_ids = encoding['input_ids'].squeeze()\n",
    "\n",
    "        return (\n",
    "            input_ids,\n",
    "            label\n",
    "        )"
   ]
  },
  {
   "cell_type": "code",
   "execution_count": 6,
   "metadata": {},
   "outputs": [],
   "source": [
    "train_dataset = SentimentDataset(data['train'], tokenizer)\n",
    "test_dataset = SentimentDataset(data['test'], tokenizer)"
   ]
  },
  {
   "cell_type": "code",
   "execution_count": 7,
   "metadata": {},
   "outputs": [],
   "source": [
    "def pad_collate(batch):\n",
    "  (xx, yy) = zip(*batch)\n",
    "  x_lens = torch.tensor([len(x) for x in xx])\n",
    "  yy = torch.tensor(yy, dtype=torch.float)\n",
    "\n",
    "  xx_pad = pad_sequence(xx, batch_first=True, padding_value=0)\n",
    "\n",
    "  return xx_pad, x_lens, yy"
   ]
  },
  {
   "cell_type": "code",
   "execution_count": 8,
   "metadata": {},
   "outputs": [],
   "source": [
    "train_loader = DataLoader(dataset=train_dataset, batch_size=64, shuffle=True, collate_fn=pad_collate)\n",
    "test_loader = DataLoader(dataset=test_dataset, batch_size=64, shuffle=True, collate_fn=pad_collate)"
   ]
  },
  {
   "cell_type": "code",
   "execution_count": 9,
   "metadata": {},
   "outputs": [],
   "source": [
    "class Model(nn.Module):\n",
    "    def __init__(self, config: DynamicLayerConfig):\n",
    "        super().__init__()\n",
    "        self.proj_size = config.proj_size if config.proj_size != 0 else config.embed_size\n",
    "        if config.bidirectional:\n",
    "            self.proj_size *= 2\n",
    "        self.dynamic_layer = DynamicLayer(config)\n",
    "        self.fc = nn.Linear(self.proj_size, 1)\n",
    "    \n",
    "    def forward(\n",
    "        self,\n",
    "        input_ids: torch.LongTensor,\n",
    "        input_lens: torch.LongTensor,\n",
    "    ) -> torch.FloatTensor:\n",
    "\n",
    "        fixed_sized = self.dynamic_layer(input_ids, input_lens)\n",
    "        return sigmoid(self.fc(fixed_sized))"
   ]
  },
  {
   "cell_type": "code",
   "execution_count": 10,
   "metadata": {},
   "outputs": [],
   "source": [
    "config = DynamicLayerConfig(\n",
    "    vocab_size=tokenizer.vocab_size,\n",
    "    embed_size=256,\n",
    "    hidden_size=128,\n",
    "    num_layers=2,\n",
    "    bidirectional=True,\n",
    ")"
   ]
  },
  {
   "cell_type": "code",
   "execution_count": 11,
   "metadata": {},
   "outputs": [],
   "source": [
    "device = 'cuda' if torch.cuda.is_available() else 'cpu'"
   ]
  },
  {
   "cell_type": "code",
   "execution_count": 12,
   "metadata": {},
   "outputs": [
    {
     "data": {
      "text/plain": [
       "Model(\n",
       "  (dynamic_layer): DynamicLayer(\n",
       "    (wte): Embedding(28996, 256)\n",
       "    (lstm): LSTM(256, 128, num_layers=2, batch_first=True, bidirectional=True)\n",
       "    (attention): DynamicLayerAttentionBlock(\n",
       "      (W_Q): Linear(in_features=256, out_features=512, bias=False)\n",
       "      (W_K): Linear(in_features=256, out_features=512, bias=False)\n",
       "      (W_V): Linear(in_features=256, out_features=512, bias=False)\n",
       "    )\n",
       "  )\n",
       "  (fc): Linear(in_features=512, out_features=1, bias=True)\n",
       ")"
      ]
     },
     "execution_count": 12,
     "metadata": {},
     "output_type": "execute_result"
    }
   ],
   "source": [
    "model = Model(config)\n",
    "model.to(device)"
   ]
  },
  {
   "cell_type": "code",
   "execution_count": 13,
   "metadata": {},
   "outputs": [
    {
     "name": "stderr",
     "output_type": "stream",
     "text": [
      "100%|██████████| 625/625 [03:05<00:00,  3.37it/s]\n"
     ]
    },
    {
     "name": "stdout",
     "output_type": "stream",
     "text": [
      "Train Epoch [1/5] Loss: 0.5257409725666046 Accuracy: 0.761375 F1: 0.7610225081995945 Precision: 0.7618045112781955 Recall: 0.7602421089490271\n"
     ]
    },
    {
     "name": "stderr",
     "output_type": "stream",
     "text": [
      "100%|██████████| 157/157 [00:20<00:00,  7.50it/s]\n"
     ]
    },
    {
     "name": "stdout",
     "output_type": "stream",
     "text": [
      "Val Epoch [1/5] Loss: 0.37193272305521996 Accuracy: 0.8468 F1: 0.8491532099251673 Precision: 0.8377695745094229 Recall: 0.8608504691555201\n"
     ]
    },
    {
     "name": "stderr",
     "output_type": "stream",
     "text": [
      "100%|██████████| 625/625 [02:27<00:00,  4.24it/s]\n"
     ]
    },
    {
     "name": "stdout",
     "output_type": "stream",
     "text": [
      "Train Epoch [2/5] Loss: 0.32617761776447296 Accuracy: 0.868225 F1: 0.8687859401060466 Precision: 0.8647175421209118 Recall: 0.8728928017607923\n"
     ]
    },
    {
     "name": "stderr",
     "output_type": "stream",
     "text": [
      "100%|██████████| 157/157 [00:15<00:00,  9.91it/s]\n"
     ]
    },
    {
     "name": "stdout",
     "output_type": "stream",
     "text": [
      "Val Epoch [2/5] Loss: 0.30998292005365824 Accuracy: 0.8774 F1: 0.8779370768618081 Precision: 0.8756703078450844 Recall: 0.8802156118985826\n"
     ]
    },
    {
     "name": "stderr",
     "output_type": "stream",
     "text": [
      "100%|██████████| 625/625 [02:12<00:00,  4.72it/s]\n"
     ]
    },
    {
     "name": "stdout",
     "output_type": "stream",
     "text": [
      "Train Epoch [3/5] Loss: 0.253584934937954 Accuracy: 0.899825 F1: 0.9003060234369169 Precision: 0.8956043956043956 Recall: 0.9050572757740983\n"
     ]
    },
    {
     "name": "stderr",
     "output_type": "stream",
     "text": [
      "100%|██████████| 157/157 [00:15<00:00, 10.02it/s]\n"
     ]
    },
    {
     "name": "stdout",
     "output_type": "stream",
     "text": [
      "Val Epoch [3/5] Loss: 0.3195134066757123 Accuracy: 0.8791 F1: 0.8734163961888807 Precision: 0.9183179216204316 Recall: 0.832701137951687\n"
     ]
    },
    {
     "name": "stderr",
     "output_type": "stream",
     "text": [
      "100%|██████████| 625/625 [02:10<00:00,  4.77it/s]\n"
     ]
    },
    {
     "name": "stdout",
     "output_type": "stream",
     "text": [
      "Train Epoch [4/5] Loss: 0.20233774168491364 Accuracy: 0.921275 F1: 0.9215476220135032 Precision: 0.9179571173317451 Recall: 0.9251663248461808\n"
     ]
    },
    {
     "name": "stderr",
     "output_type": "stream",
     "text": [
      "100%|██████████| 157/157 [00:14<00:00, 10.65it/s]\n"
     ]
    },
    {
     "name": "stdout",
     "output_type": "stream",
     "text": [
      "Val Epoch [4/5] Loss: 0.30262065560195095 Accuracy: 0.8858 F1: 0.8812148949448722 Precision: 0.9198697068403909 Recall: 0.8456777799960072\n"
     ]
    },
    {
     "name": "stderr",
     "output_type": "stream",
     "text": [
      "100%|██████████| 625/625 [02:09<00:00,  4.81it/s]\n"
     ]
    },
    {
     "name": "stdout",
     "output_type": "stream",
     "text": [
      "Train Epoch [5/5] Loss: 0.1562177701026201 Accuracy: 0.942075 F1: 0.9422410569612364 Precision: 0.9391274100576427 Recall: 0.9453754189385223\n"
     ]
    },
    {
     "name": "stderr",
     "output_type": "stream",
     "text": [
      "100%|██████████| 157/157 [00:15<00:00, 10.24it/s]"
     ]
    },
    {
     "name": "stdout",
     "output_type": "stream",
     "text": [
      "Val Epoch [5/5] Loss: 0.2969469239187848 Accuracy: 0.8923 F1: 0.8891861302603149 Precision: 0.9174097664543525 Recall: 0.8626472349770413\n"
     ]
    },
    {
     "name": "stderr",
     "output_type": "stream",
     "text": [
      "\n"
     ]
    }
   ],
   "source": [
    "criterion = nn.BCELoss()\n",
    "\n",
    "learning_rate = 3e-4\n",
    "optimizer = torch.optim.AdamW(model.parameters(), lr=learning_rate)\n",
    "lr_scheduler = torch.optim.lr_scheduler.ExponentialLR(optimizer, 0.9)\n",
    "\n",
    "\n",
    "train_losses = []\n",
    "val_losses = []\n",
    "\n",
    "num_epochs = 5\n",
    "for epoch in range(num_epochs):\n",
    "    train_epoch_losses = []\n",
    "    prediction = []\n",
    "    label = []\n",
    "    for x, x_lens, y in tqdm(train_loader):\n",
    "        x = x.to(device)\n",
    "        y = y.to(device)\n",
    "\n",
    "        label.extend(y.detach().cpu().tolist())\n",
    "        \n",
    "        pred = model(x, x_lens).flatten()\n",
    "        loss = criterion(pred, y)\n",
    "\n",
    "        prediction.extend(pred.detach().cpu().tolist())\n",
    "\n",
    "        optimizer.zero_grad()\n",
    "        loss.backward()\n",
    "        optimizer.step()\n",
    "\n",
    "        train_epoch_losses.append(loss.item())\n",
    "    lr_scheduler.step()\n",
    "    \n",
    "    label = torch.tensor(label)\n",
    "    prediction = (torch.tensor(prediction) > 0.5).type(torch.FloatTensor)\n",
    "    accuracy = accuracy_score(label, prediction)\n",
    "    f1 = f1_score(label, prediction)\n",
    "    precision = precision_score(label, prediction)\n",
    "    recall = recall_score(label, prediction)\n",
    "\n",
    "    train_losses.append(sum(train_epoch_losses) / len(train_epoch_losses))\n",
    "\n",
    "    print(f\"Train Epoch [{epoch+1}/{num_epochs}] Loss: {train_losses[-1]} Accuracy: {accuracy} F1: {f1} Precision: {precision} Recall: {recall}\")\n",
    "\n",
    "    prediction = []\n",
    "    label = []\n",
    "    val_epoch_losses = []\n",
    "    for x, x_lens, y in tqdm(test_loader):\n",
    "        x = x.to(device)\n",
    "        y = y.to(device)\n",
    "\n",
    "        label.extend(y.detach().cpu().tolist())\n",
    "        \n",
    "        pred = model(x, x_lens).flatten()\n",
    "        loss = criterion(pred, y)\n",
    "\n",
    "        prediction.extend(pred.detach().cpu().tolist())\n",
    "\n",
    "        val_epoch_losses.append(loss.item())\n",
    "    \n",
    "    label = torch.tensor(label)\n",
    "    prediction = (torch.tensor(prediction) > 0.5).type(torch.FloatTensor)\n",
    "    accuracy = accuracy_score(label, prediction)\n",
    "    f1 = f1_score(label, prediction)\n",
    "    precision = precision_score(label, prediction)\n",
    "    recall = recall_score(label, prediction)\n",
    "    \n",
    "    val_losses.append(sum(val_epoch_losses) / len(val_epoch_losses))\n",
    "    print(f\"Val Epoch [{epoch+1}/{num_epochs}] Loss: {val_losses[-1]} Accuracy: {accuracy} F1: {f1} Precision: {precision} Recall: {recall}\")"
   ]
  },
  {
   "cell_type": "code",
   "execution_count": 14,
   "metadata": {},
   "outputs": [],
   "source": [
    "torch.save(model, 'model.pt')"
   ]
  },
  {
   "cell_type": "code",
   "execution_count": 15,
   "metadata": {},
   "outputs": [
    {
     "data": {
      "text/plain": [
       "[<matplotlib.lines.Line2D at 0x2b19d31ed30>]"
      ]
     },
     "execution_count": 15,
     "metadata": {},
     "output_type": "execute_result"
    },
    {
     "data": {
      "image/png": "[encoded data removed]",
      "text/plain": [
       "<Figure size 640x480 with 2 Axes>"
      ]
     },
     "metadata": {},
     "output_type": "display_data"
    }
   ],
   "source": [
    "plt.subplot(1, 2, 1)\n",
    "plt.plot(train_losses)\n",
    "plt.subplot(1, 2, 2)\n",
    "plt.plot(val_losses)"
   ]
  }
 ],
 "metadata": {
  "kernelspec": {
   "display_name": "Python 3",
   "language": "python",
   "name": "python3"
  },
  "language_info": {
   "codemirror_mode": {
    "name": "ipython",
    "version": 3
   },
   "file_extension": ".py",
   "mimetype": "text/x-python",
   "name": "python",
   "nbconvert_exporter": "python",
   "pygments_lexer": "ipython3",
   "version": "3.9.0"
  },
  "orig_nbformat": 4
 },
 "nbformat": 4,
 "nbformat_minor": 2
}
